{
  "nbformat": 4,
  "nbformat_minor": 0,
  "metadata": {
    "colab": {
      "provenance": []
    },
    "kernelspec": {
      "name": "python3",
      "display_name": "Python 3"
    },
    "language_info": {
      "name": "python"
    }
  },
  "cells": [
    {
      "cell_type": "markdown",
      "source": [
        "#FUNCTIONS ASSIGNMENT\n",
        "\n",
        "#1. What is the difference between a function and a method in Python?\n",
        "- Both methods and functions are reusable blocks of code designed to perform specific tasks. The key distinction lies in their association. Functions are standalone, while methods are tied to objects or classes, meaning they operate on the data or state of that object.\n",
        "\n",
        "#2. Explain the concept of function arguments and parameters in Python.\n",
        "- Arguments:\n",
        "Arguments are the actual values or expressions passed to a function when it is called. These values are assigned to the corresponding parameters in the function's definition, allowing the function to operate on specific data.\n",
        "\n",
        "- Parameters:\n",
        "Parameters are placeholders defined in the function's definition, within the parentheses following the function name. They represent the inputs that the function expects to receive when it is called. Parameters act as local variables within the function's scope, and their values are determined by the arguments passed during the function call.\n",
        "\n",
        "#3. What are the different ways to define and call a function in Python?\n",
        "- ou can define a Python function with the def keyword, followed by the function name, parentheses with optional parameters, a colon, and then an indented code block. You call a Python function by writing its name followed by parentheses, enclosing any necessary arguments, to execute its code block.\n",
        "\n",
        "#4.  What is the purpose of the `return` statement in a Python function?\n",
        "- When a return statement is encountered during the execution of a function, the function immediately terminates. Any code following the return statement within that function will not be executed. Control is then transferred back to the point in the program where the function was called.\n",
        "\n",
        "#5.  What are iterators in Python and how do they differ from iterables?\n",
        "- An iterable can be loosely defined as an object which would generate an iterator when passed to inbuilt method iter(). There are a couple of conditions, for an object to be iterable, the object of the class needs to define two instance method: __len__ and __getitem__. An object which fulfills these conditions when passed to method iter() would generate an iterator.\n",
        "- Iterators are defined as an object that counts iteration via an internal state variable. The variable, in this case, is NOT set to zero when the iteration crosses the last item, instead, StopIteration() is raised to indicate the end of the iteration.\n",
        "\n",
        "# 6. Explain the concept of generators in Python and how they are defined.\n",
        "- a generator is a special type of function that returns an iterator, allowing for memory-efficient iteration over a sequence of values. Unlike regular functions that use return to provide a single value and terminate, generators use yield to produce a sequence of values on demand, pausing and resuming their execution as needed. This allows generators to handle potentially large or even infinite sequences without storing all values in memory at once.\n",
        "\n",
        "#7.  What are the advantages of using generators over regular functions?\n",
        "- Unlike a regular function, a generator does not return its results all at once. Instead, it yields its values one by one, each time it is called. This makes it possible to generate an infinite sequence of values, as long as there is sufficient memory to store them.\n",
        "\n",
        "#8. a lambda function is a small, anonymous function defined using the lambda keyword.\n",
        "- a lambda function is a small, anonymous function defined using the lambda keyword. It can take any number of arguments but can only have one expression. Lambda functions are typically used for short, concise operations, especially when passing functions as arguments to higher-order functions like map, filter, or sorted.\n",
        "\n",
        "#9.Explain the purpose and usage of the `map()` function in Python.\n",
        "- The map() function in Python is a built-in higher-order function used to apply a specified function to each item in an iterable (such as a list, tuple, or set) and return an iterator that yields the results. Its primary purpose is to efficiently transform data within an iterable without requiring explicit for loops, leading to more concise and often more readable code.\n",
        "\n",
        "#10. What is the difference between `map()`, `reduce()`, and `filter()` functions in Python?\n",
        "- The map(), filter(), and reduce() functions in Python are higher-order functions used for functional programming paradigms, enabling concise and expressive code for data manipulation.\n",
        "- map(function, iterable):\n",
        "\n",
        "Purpose: Applies a given function to each item in an iterable (e.g., list, tuple, string) and returns a map object (an iterator) containing the results.\n",
        "\n",
        "Output: A new iterable of the same length as the input, where each element is the result of applying the function to the corresponding input element.\n",
        "\n",
        "Example: Doubling each number in a list.\n",
        "\n",
        "- reduce(function, iterable[, initial]):\n",
        "\n",
        "Purpose: Applies a function of two arguments cumulatively to the items of an iterable, from left to right, to reduce the iterable to a single value. This function is part of the functools module and needs to be imported.\n",
        "\n",
        "Output: A single, accumulated value.\n",
        "\n",
        "Example: Calculating the sum of all numbers in a list.\n",
        "\n",
        "- filter(function, iterable):\n",
        "\n",
        "Purpose: Constructs an iterator from elements of an iterable for which a function returns True. The function acts as a predicate (a test that returns True or False).\n",
        "\n",
        "Output: A new iterable containing only the elements from the input iterable that satisfied the condition.\n",
        "\n",
        "Example: Filtering out even numbers from a list.\n",
        "\n",
        "#11. Using pen & Paper write the internal mechanism for sum operation using  reduce function on this given list:[47,11,42,13];\n",
        "-\n",
        "\n",
        "\n",
        "\n",
        "#PRACTICAL QUESTIONS\n",
        "\n",
        "\n",
        "#1. Write a Python function that takes a list of numbers as input and returns the sum of all even numbers in the list.\n",
        "\n",
        "\n",
        "\n",
        "\n",
        "\n"
      ],
      "metadata": {
        "id": "x_snk3pzLDZO"
      }
    },
    {
      "cell_type": "code",
      "source": [
        "def sum_of_even_numbers(numbers):\n",
        "    even_sum = 0\n",
        "    for num in numbers:\n",
        "        if num % 2 == 0:\n",
        "            even_sum += num\n",
        "    return even_sum\n",
        "\n",
        "numbers = [10, 3, 5, 8, 2, 7]\n",
        "result = sum_of_even_numbers(numbers)\n",
        "print(\"Sum of even numbers:\", result)"
      ],
      "metadata": {
        "colab": {
          "base_uri": "https://localhost:8080/"
        },
        "id": "PigdFm5EcnGJ",
        "outputId": "81a26f07-0c81-4999-907f-79dfe2bb8dfc"
      },
      "execution_count": null,
      "outputs": [
        {
          "output_type": "stream",
          "name": "stdout",
          "text": [
            "Sum of even numbers: 20\n"
          ]
        }
      ]
    },
    {
      "cell_type": "markdown",
      "source": [
        "#2. Create a Python function that accepts a string and returns the reverse of that string.\n",
        "\n"
      ],
      "metadata": {
        "id": "eT-Y6KV7d2oT"
      }
    },
    {
      "cell_type": "code",
      "source": [
        "def reverse_string(s):\n",
        "    return s[::-1]\n",
        "text = \"Hello, World!\"\n",
        "reversed_text = reverse_string(text)\n",
        "print(\"Reversed string:\", reversed_text)"
      ],
      "metadata": {
        "colab": {
          "base_uri": "https://localhost:8080/"
        },
        "id": "ntBP_ZEHeA3N",
        "outputId": "25e70d41-2ea2-4ccf-afc1-0a10a09d7786"
      },
      "execution_count": null,
      "outputs": [
        {
          "output_type": "stream",
          "name": "stdout",
          "text": [
            "Reversed string: !dlroW ,olleH\n"
          ]
        }
      ]
    },
    {
      "cell_type": "markdown",
      "source": [
        "#3. Implement a Python function that takes a list of integers and returns a new list containing the squares of each number."
      ],
      "metadata": {
        "id": "BcLYx6aQeRxj"
      }
    },
    {
      "cell_type": "code",
      "source": [
        "def square_numbers(numbers):\n",
        " return [number ** 2 for number in numbers]\n",
        "\n",
        "numbers = [1, 2, 3, 4, 5]\n",
        "squared_numbers = square_numbers(numbers)\n",
        "print(\"Squared numbers:\", squared_numbers)\n"
      ],
      "metadata": {
        "colab": {
          "base_uri": "https://localhost:8080/"
        },
        "id": "hqJ-GHfueZ2J",
        "outputId": "aa4b46f4-037a-492a-d824-200a1b36f9a3"
      },
      "execution_count": null,
      "outputs": [
        {
          "output_type": "stream",
          "name": "stdout",
          "text": [
            "Squared numbers: [1, 4, 9, 16, 25]\n"
          ]
        }
      ]
    },
    {
      "cell_type": "markdown",
      "source": [
        "#4. Write a Python function that checks if a given number is prime or not from 1 to 200."
      ],
      "metadata": {
        "id": "f4lTGO4fhg09"
      }
    },
    {
      "cell_type": "code",
      "source": [
        "def is_prime(n):\n",
        "    if n <= 1:\n",
        "        return False\n",
        "    for i in range(2, int(n**0.5) + 1):\n",
        "        if n % i == 0:\n",
        "            return False\n",
        "    return True\n",
        "for num in range(1, 201):\n",
        "    if is_prime(num):\n",
        "        print(num, \"is a prime number\")"
      ],
      "metadata": {
        "colab": {
          "base_uri": "https://localhost:8080/"
        },
        "collapsed": true,
        "id": "R4cENtaUh9T6",
        "outputId": "dc63cf8f-232d-477b-e27c-5179b2bea41d"
      },
      "execution_count": null,
      "outputs": [
        {
          "output_type": "stream",
          "name": "stdout",
          "text": [
            "2 is a prime number\n",
            "3 is a prime number\n",
            "5 is a prime number\n",
            "7 is a prime number\n",
            "11 is a prime number\n",
            "13 is a prime number\n",
            "17 is a prime number\n",
            "19 is a prime number\n",
            "23 is a prime number\n",
            "29 is a prime number\n",
            "31 is a prime number\n",
            "37 is a prime number\n",
            "41 is a prime number\n",
            "43 is a prime number\n",
            "47 is a prime number\n",
            "53 is a prime number\n",
            "59 is a prime number\n",
            "61 is a prime number\n",
            "67 is a prime number\n",
            "71 is a prime number\n",
            "73 is a prime number\n",
            "79 is a prime number\n",
            "83 is a prime number\n",
            "89 is a prime number\n",
            "97 is a prime number\n",
            "101 is a prime number\n",
            "103 is a prime number\n",
            "107 is a prime number\n",
            "109 is a prime number\n",
            "113 is a prime number\n",
            "127 is a prime number\n",
            "131 is a prime number\n",
            "137 is a prime number\n",
            "139 is a prime number\n",
            "149 is a prime number\n",
            "151 is a prime number\n",
            "157 is a prime number\n",
            "163 is a prime number\n",
            "167 is a prime number\n",
            "173 is a prime number\n",
            "179 is a prime number\n",
            "181 is a prime number\n",
            "191 is a prime number\n",
            "193 is a prime number\n",
            "197 is a prime number\n",
            "199 is a prime number\n"
          ]
        }
      ]
    },
    {
      "cell_type": "markdown",
      "source": [
        "#5.  Create an iterator class in Python that generates the Fibonacci sequence up to a specified number of terms."
      ],
      "metadata": {
        "id": "xPdrGpQoicVT"
      }
    },
    {
      "cell_type": "code",
      "source": [
        "class Fibonacci:\n",
        "    def __init__(self, max_terms):\n",
        "        self.max_terms = max_terms\n",
        "        self.count = 0\n",
        "        self.a, self.b = 0, 1\n",
        "\n",
        "    def __iter__(self):\n",
        "        return self\n",
        "\n",
        "    def __next__(self):\n",
        "        if self.count >= self.max_terms:\n",
        "            raise StopIteration\n",
        "        if self.count == 0:\n",
        "            self.count += 1\n",
        "            return 0\n",
        "        elif self.count == 1:\n",
        "            self.count += 1\n",
        "            return 1\n",
        "        else:\n",
        "            fib = self.a + self.b\n",
        "            self.a, self.b = self.b, fib\n",
        "            self.count += 1\n",
        "            return fib\n",
        "fib = Fibonacci(10)\n",
        "\n",
        "for num in fib:\n",
        "    print(num)"
      ],
      "metadata": {
        "colab": {
          "base_uri": "https://localhost:8080/"
        },
        "collapsed": true,
        "id": "B-K5209siigH",
        "outputId": "991a4254-36c1-4c08-f241-9ded4c9ae18d"
      },
      "execution_count": null,
      "outputs": [
        {
          "output_type": "stream",
          "name": "stdout",
          "text": [
            "0\n",
            "1\n",
            "1\n",
            "2\n",
            "3\n",
            "5\n",
            "8\n",
            "13\n",
            "21\n",
            "34\n"
          ]
        }
      ]
    },
    {
      "cell_type": "markdown",
      "source": [
        "#6. Write a generator function in Python that yields the powers of 2 up to a given exponent."
      ],
      "metadata": {
        "id": "ubw49MfAkqb_"
      }
    },
    {
      "cell_type": "code",
      "source": [
        "def powers_of_two(max_exponent):\n",
        "    for exp in range(max_exponent + 1):\n",
        "        yield 2 ** exp\n",
        "for value in powers_of_two(5):\n",
        "    print(value)"
      ],
      "metadata": {
        "colab": {
          "base_uri": "https://localhost:8080/"
        },
        "collapsed": true,
        "id": "39VG9VIVkwyb",
        "outputId": "d26c5da9-6dc1-4b79-f6b7-23b78f4c8620"
      },
      "execution_count": null,
      "outputs": [
        {
          "output_type": "stream",
          "name": "stdout",
          "text": [
            "1\n",
            "2\n",
            "4\n",
            "8\n",
            "16\n",
            "32\n"
          ]
        }
      ]
    },
    {
      "cell_type": "markdown",
      "source": [
        "#7. Implement a generator function that reads a file line by line and yields each line as a string."
      ],
      "metadata": {
        "id": "SOWDruLHlPC-"
      }
    },
    {
      "cell_type": "code",
      "source": [],
      "metadata": {
        "id": "C--kFbpklV-G"
      },
      "execution_count": null,
      "outputs": []
    },
    {
      "cell_type": "markdown",
      "source": [
        "#8. Use a lambda function in Python to sort a list of tuples based on the second element of each tuple.\n"
      ],
      "metadata": {
        "id": "7zarq_uJHI9K"
      }
    },
    {
      "cell_type": "code",
      "source": [
        "data = [('apple', 3), ('banana', 1), ('cherry', 2)]\n",
        "sorted_data = sorted(data, key=lambda x: x[1])\n",
        "print(sorted_data)\n",
        "\n",
        "data = [('apple', 3), ('banana', 1), ('cherry', 2)]\n",
        "data.sort(key=lambda x: x[1])\n",
        "print(data)"
      ],
      "metadata": {
        "colab": {
          "base_uri": "https://localhost:8080/"
        },
        "collapsed": true,
        "id": "fBh1ZPUFHSql",
        "outputId": "a7bce316-8fe8-47a9-cb05-fc7a92451b8f"
      },
      "execution_count": 2,
      "outputs": [
        {
          "output_type": "stream",
          "name": "stdout",
          "text": [
            "[('banana', 1), ('cherry', 2), ('apple', 3)]\n",
            "[('banana', 1), ('cherry', 2), ('apple', 3)]\n"
          ]
        }
      ]
    },
    {
      "cell_type": "markdown",
      "source": [
        "#9. Write a Python program that uses `map()` to convert a list of temperatures from Celsius to Fahrenheit."
      ],
      "metadata": {
        "id": "eRNDrIXCHwtf"
      }
    },
    {
      "cell_type": "code",
      "source": [
        "def celsius_to_fahrenheit(celsius):\n",
        "  return (celsius * 9/5) + 32\n",
        "def convert_temperatures(celsius_list):\n",
        "  fahrenheit_list = list(map(celsius_to_fahrenheit, celsius_list))\n",
        "  return fahrenheit_list\n",
        "celsius_temps = [0, 10, 20, 30, 100]\n",
        "fahrenheit_temps = convert_temperatures(celsius_temps)\n",
        "print(f\"Celsius: {celsius_temps}\")\n",
        "print(f\"Fahrenheit: {fahrenheit_temps}\")"
      ],
      "metadata": {
        "colab": {
          "base_uri": "https://localhost:8080/"
        },
        "collapsed": true,
        "id": "SD2cjqpqIBmL",
        "outputId": "dbde5b39-d419-4b58-8222-7d5f584d7298"
      },
      "execution_count": 5,
      "outputs": [
        {
          "output_type": "stream",
          "name": "stdout",
          "text": [
            "Celsius: [0, 10, 20, 30, 100]\n",
            "Fahrenheit: [32.0, 50.0, 68.0, 86.0, 212.0]\n"
          ]
        }
      ]
    },
    {
      "cell_type": "markdown",
      "source": [
        "#10. Create a Python program that uses `filter()` to remove all the vowels from a given string."
      ],
      "metadata": {
        "id": "sygwgZvcITAi"
      }
    },
    {
      "cell_type": "code",
      "source": [
        "input_string = \"learning through pwskills\"\n",
        "vowels = 'aeiouAEIOU'\n",
        "no_vowels = ''.join(filter(lambda char: char not in vowels, input_string))\n",
        "print(\"String without vowels:\", no_vowels)"
      ],
      "metadata": {
        "colab": {
          "base_uri": "https://localhost:8080/"
        },
        "id": "2Mz6UoJpIYyR",
        "outputId": "32df23e1-b95f-4ce0-c0a5-ac655eac09b4"
      },
      "execution_count": 7,
      "outputs": [
        {
          "output_type": "stream",
          "name": "stdout",
          "text": [
            "String without vowels: lrnng thrgh pwsklls\n"
          ]
        }
      ]
    },
    {
      "cell_type": "markdown",
      "source": [
        "#11. Imagine an accounting routine used in a book shop. It works on a list with sublists, which look like this:\n",
        " Write a Python program, which returns a list with 2-tuples. Each tuple consists of the order number and the\n",
        "product of the price per item and the quantity. The product should be increased by 10,- € if the value of the\n",
        "order is smaller than 100,00 €.\n",
        " Write a Python program using lambda and map"
      ],
      "metadata": {
        "id": "nz7K9gF3J6vQ"
      }
    },
    {
      "cell_type": "code",
      "source": [
        "orders = [\n",
        "    [\"34587\", 4, 40.95],\n",
        "    [\"98762\", 5, 56.80],\n",
        "    [\"77226\", 3, 32.95],\n",
        "    [\"88112\", 3, 24.99],\n",
        "]\n",
        "\n",
        "calculate_order_total = lambda order: (\n",
        "    order[0],\n",
        "    (order[1] * order[2] + 10) if (order[1] * order[2]) < 100 else (order[1] * order[2]),\n",
        ")\n",
        "\n",
        "result = list(map(calculate_order_total, orders))\n",
        "\n",
        "print(result)"
      ],
      "metadata": {
        "colab": {
          "base_uri": "https://localhost:8080/"
        },
        "collapsed": true,
        "id": "MsfbZgiNMIsj",
        "outputId": "01675a05-152e-4a8c-88fa-950100986ed0"
      },
      "execution_count": 8,
      "outputs": [
        {
          "output_type": "stream",
          "name": "stdout",
          "text": [
            "[('34587', 163.8), ('98762', 284.0), ('77226', 108.85000000000001), ('88112', 84.97)]\n"
          ]
        }
      ]
    }
  ]
}